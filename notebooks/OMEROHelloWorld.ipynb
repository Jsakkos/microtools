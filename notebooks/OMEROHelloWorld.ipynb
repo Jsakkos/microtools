{
 "cells": [
  {
   "cell_type": "markdown",
   "metadata": {
    "collapsed": true
   },
   "source": [
    "### Basic example on how to use OMERO Python language bindings\n",
    "See https://docs.openmicroscopy.org/latest/omero/developers/Python.html"
   ]
  },
  {
   "cell_type": "markdown",
   "metadata": {},
   "source": [
    "### Import Packages required to connect to OMERO"
   ]
  },
  {
   "cell_type": "code",
   "execution_count": 1,
   "metadata": {},
   "outputs": [],
   "source": [
    "from omero.gateway import BlitzGateway\n",
    "from getpass import getpass"
   ]
  },
  {
   "cell_type": "markdown",
   "metadata": {},
   "source": [
    "### Create a connection to an OMERO server"
   ]
  },
  {
   "cell_type": "code",
   "execution_count": 5,
   "metadata": {},
   "outputs": [
    {
     "name": "stdout",
     "output_type": "stream",
     "text": [
      "Username: JonathanSakkos\n",
      "OMERO Password: ········\n",
      "Connected as JonathanSakkos\n"
     ]
    }
   ],
   "source": [
    "def connect(hostname, username, password):\n",
    "    \"\"\"\n",
    "    Connect to an OMERO server\n",
    "    :param hostname: Host name\n",
    "    :param username: User\n",
    "    :param password: Password\n",
    "    :return: Connected BlitzGateway\n",
    "    \"\"\"\n",
    "    conn = BlitzGateway(username, password,\n",
    "                        host=hostname, port=4064, secure=True)\n",
    "    conn.connect()\n",
    "    conn.c.enableKeepAlive(600)\n",
    "    return conn\n",
    "\n",
    "HOST = '35.8.197.106'\n",
    "conn = connect(HOST, input(\"Username: \"),\n",
    "               getpass(\"OMERO Password: \"))\n",
    "print(\"Connected as {}\".format(conn.getUser().getName()))"
   ]
  },
  {
   "cell_type": "markdown",
   "metadata": {},
   "source": [
    "### Load images in a specified dataset method"
   ]
  },
  {
   "cell_type": "code",
   "execution_count": 6,
   "metadata": {},
   "outputs": [
    {
     "name": "stdout",
     "output_type": "stream",
     "text": [
      "Dataset ID: 51\n",
      "---- Processing image 311\n",
      "---- Processing image 273\n",
      "---- Processing image 282\n",
      "---- Processing image 266\n",
      "---- Processing image 298\n",
      "---- Processing image 294\n",
      "---- Processing image 290\n",
      "---- Processing image 259\n",
      "---- Processing image 299\n",
      "---- Processing image 309\n",
      "---- Processing image 305\n",
      "---- Processing image 288\n",
      "---- Processing image 310\n",
      "---- Processing image 303\n",
      "---- Processing image 280\n",
      "---- Processing image 302\n",
      "---- Processing image 291\n",
      "---- Processing image 268\n",
      "---- Processing image 284\n",
      "---- Processing image 262\n",
      "---- Processing image 278\n",
      "---- Processing image 275\n",
      "---- Processing image 307\n",
      "---- Processing image 279\n",
      "---- Processing image 308\n",
      "---- Processing image 270\n",
      "---- Processing image 281\n",
      "---- Processing image 301\n",
      "---- Processing image 295\n",
      "---- Processing image 304\n",
      "---- Processing image 260\n",
      "---- Processing image 263\n",
      "---- Processing image 276\n",
      "---- Processing image 272\n",
      "---- Processing image 286\n",
      "---- Processing image 287\n",
      "---- Processing image 269\n",
      "---- Processing image 232\n",
      "---- Processing image 246\n",
      "---- Processing image 254\n",
      "---- Processing image 225\n",
      "---- Processing image 236\n",
      "---- Processing image 229\n",
      "---- Processing image 237\n",
      "---- Processing image 243\n",
      "---- Processing image 230\n",
      "---- Processing image 256\n",
      "---- Processing image 224\n",
      "---- Processing image 234\n",
      "---- Processing image 244\n",
      "---- Processing image 257\n",
      "---- Processing image 247\n",
      "---- Processing image 216\n",
      "---- Processing image 231\n",
      "---- Processing image 252\n",
      "---- Processing image 253\n",
      "---- Processing image 274\n",
      "---- Processing image 296\n",
      "---- Processing image 271\n",
      "---- Processing image 300\n",
      "---- Processing image 267\n",
      "---- Processing image 292\n",
      "---- Processing image 264\n",
      "---- Processing image 283\n",
      "---- Processing image 261\n",
      "---- Processing image 277\n",
      "---- Processing image 306\n",
      "---- Processing image 297\n",
      "---- Processing image 289\n",
      "---- Processing image 285\n",
      "---- Processing image 293\n",
      "---- Processing image 265\n",
      "---- Processing image 258\n",
      "---- Processing image 325\n",
      "---- Processing image 326\n",
      "---- Processing image 324\n",
      "---- Processing image 315\n",
      "---- Processing image 249\n",
      "---- Processing image 239\n",
      "---- Processing image 217\n",
      "---- Processing image 245\n",
      "---- Processing image 222\n",
      "---- Processing image 228\n",
      "---- Processing image 319\n",
      "---- Processing image 220\n",
      "---- Processing image 241\n",
      "---- Processing image 317\n",
      "---- Processing image 255\n",
      "---- Processing image 312\n",
      "---- Processing image 227\n",
      "---- Processing image 242\n",
      "---- Processing image 240\n",
      "---- Processing image 314\n",
      "---- Processing image 251\n",
      "---- Processing image 221\n",
      "---- Processing image 323\n",
      "---- Processing image 248\n",
      "---- Processing image 223\n",
      "---- Processing image 321\n",
      "---- Processing image 226\n",
      "---- Processing image 322\n",
      "---- Processing image 219\n",
      "---- Processing image 238\n",
      "---- Processing image 233\n",
      "---- Processing image 250\n",
      "---- Processing image 235\n",
      "---- Processing image 313\n",
      "---- Processing image 218\n",
      "---- Processing image 316\n",
      "---- Processing image 318\n",
      "---- Processing image 320\n",
      "object #0 (::omero::RLong)\n",
      "{\n",
      "    _val = 311\n",
      "}\n"
     ]
    }
   ],
   "source": [
    "def load_images(conn, dataset_id):\n",
    "    \"\"\"\n",
    "    Load the images in the specified dataset\n",
    "    :param conn: The BlitzGateway\n",
    "    :param dataset_id: The dataset's id\n",
    "    :return: The Images or None\n",
    "    \"\"\"\n",
    "    dataset = conn.getObject(\"Dataset\", dataset_id)\n",
    "    images = []\n",
    "    for image in dataset.listChildren():\n",
    "        images.append(image)\n",
    "    if len(images) == 0:\n",
    "        return None\n",
    "\n",
    "    for image in images:\n",
    "        print(\"---- Processing image\", image.id)\n",
    "    return images\n",
    "\n",
    "images = load_images(conn, input(\"Dataset ID: \"))\n",
    "print(images[0]._obj.id)"
   ]
  },
  {
   "cell_type": "markdown",
   "metadata": {},
   "source": [
    "### Close the connection to the OMERO server"
   ]
  },
  {
   "cell_type": "code",
   "execution_count": 7,
   "metadata": {},
   "outputs": [],
   "source": [
    "conn.close()"
   ]
  },
  {
   "cell_type": "markdown",
   "metadata": {
    "collapsed": true
   },
   "source": [
    "### License\n",
    "Copyright (C) 2019-2020 University of Dundee. All Rights Reserved.\n",
    "This program is free software; you can redistribute it and/or modify it\n",
    "under the terms of the GNU General Public License as published by the\n",
    "Free Software Foundation; either version 2 of the License, or\n",
    "(at your option) any later version.\n",
    "This program is distributed in the hope that it will be useful, but\n",
    "WITHOUT ANY WARRANTY; without even the implied warranty of MERCHANTABILITY\n",
    "or FITNESS FOR A PARTICULAR PURPOSE. See the GNU General Public License for\n",
    "more details. You should have received a copy of the GNU General\n",
    "Public License along with this program; if not, write to the\n",
    "Free Software Foundation,\n",
    "Inc., 51 Franklin Street, Fifth Floor, Boston, MA 02110-1301 USA."
   ]
  }
 ],
 "metadata": {
  "kernelspec": {
   "display_name": "Python 3",
   "language": "python",
   "name": "python3"
  },
  "language_info": {
   "codemirror_mode": {
    "name": "ipython",
    "version": 3
   },
   "file_extension": ".py",
   "mimetype": "text/x-python",
   "name": "python",
   "nbconvert_exporter": "python",
   "pygments_lexer": "ipython3",
   "version": "3.8.5"
  }
 },
 "nbformat": 4,
 "nbformat_minor": 2
}
